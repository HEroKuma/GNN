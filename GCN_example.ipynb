{
 "cells": [
  {
   "cell_type": "code",
   "execution_count": 6,
   "metadata": {},
   "outputs": [],
   "source": [
    "import dgl\n",
    "import dgl.function as fn\n",
    "import torch\n",
    "import torch.nn as nn\n",
    "import torch.nn.functional as F\n",
    "from dgl import DGLGraph\n",
    "\n",
    "gcn_msg = fn.copy_src(src='h', out='m')\n",
    "gcn_reduce = fn.sum(msg='m', out='h')"
   ]
  },
  {
   "cell_type": "code",
   "execution_count": 7,
   "metadata": {},
   "outputs": [],
   "source": [
    "class GCNLayer(nn.Module):\n",
    "    def __init__(self, in_feats, out_feats):\n",
    "        super(GCNLayer, self).__init__()\n",
    "        self.linear = nn.Linear(in_feats, out_feats)\n",
    "    \n",
    "    def forward(self, g, feature):\n",
    "        with g.local_scope():\n",
    "            g.ndata['h'] = feature\n",
    "            g.update_all(gcn_msg, gcn_reduce)\n",
    "            h = g.ndata['h']\n",
    "            return self.linear(h)"
   ]
  },
  {
   "cell_type": "code",
   "execution_count": 56,
   "metadata": {},
   "outputs": [
    {
     "name": "stdout",
     "output_type": "stream",
     "text": [
      "Net(\n",
      "  (layer1): GCNLayer(\n",
      "    (linear): Linear(in_features=1433, out_features=16, bias=True)\n",
      "  )\n",
      "  (layer2): GCNLayer(\n",
      "    (linear): Linear(in_features=16, out_features=7, bias=True)\n",
      "  )\n",
      ")\n"
     ]
    }
   ],
   "source": [
    "class Net(nn.Module):\n",
    "    def __init__(self):\n",
    "        super(Net, self).__init__()\n",
    "        self.layer1 = GCNLayer(1433, 16)\n",
    "        self.layer2 = GCNLayer(16, 7)\n",
    "        \n",
    "    def forward(self, g, features):\n",
    "        x = F.relu(self.layer1(g, features))\n",
    "        x = self.layer2(g, x)\n",
    "        return x\n",
    "\n",
    "net = Net()\n",
    "print(net)"
   ]
  },
  {
   "cell_type": "code",
   "execution_count": 16,
   "metadata": {},
   "outputs": [],
   "source": [
    "from dgl.data import citation_graph as citegrh\n",
    "import networkx as nx\n",
    "def load_cora_data():\n",
    "    data = citegrh.load_cora()\n",
    "    features = torch.FloatTensor(data.features)\n",
    "    labels = torch.LongTensor(data.labels)\n",
    "    train_mask = torch.BoolTensor(data.train_mask)\n",
    "    test_mask = torch.BoolTensor(data.test_mask)\n",
    "    g = DGLGraph(data.graph)\n",
    "    return g, features, labels, train_mask, test_mask"
   ]
  },
  {
   "cell_type": "code",
   "execution_count": 19,
   "metadata": {},
   "outputs": [],
   "source": [
    "def evaluate(model, g, features, labels, mask):\n",
    "    model.eval()\n",
    "    with torch.no_grad():\n",
    "        logits = model(g, features)\n",
    "        logits = logits[mask]\n",
    "        labels = labels[mask]\n",
    "        _, indices = torch.max(logits, dim=1)\n",
    "        correct = torch.sum(indices == labels)\n",
    "        return correct.item() * 1.0 / len(labels)"
   ]
  },
  {
   "cell_type": "code",
   "execution_count": 58,
   "metadata": {
    "scrolled": true
   },
   "outputs": [
    {
     "name": "stderr",
     "output_type": "stream",
     "text": [
      "/home/herokuma/miniconda3/envs/pytorch/lib/python3.6/site-packages/numpy/core/fromnumeric.py:3118: RuntimeWarning: Mean of empty slice.\n",
      "  out=out, **kwargs)\n",
      "/home/herokuma/miniconda3/envs/pytorch/lib/python3.6/site-packages/numpy/core/_methods.py:85: RuntimeWarning: invalid value encountered in double_scalars\n",
      "  ret = ret.dtype.type(ret / rcount)\n"
     ]
    },
    {
     "name": "stdout",
     "output_type": "stream",
     "text": [
      "Epoch 00000 | Loss 2.0187 | Test Acc 0.2180 | Time(s) nan\n",
      "Epoch 00001 | Loss 1.8209 | Test Acc 0.3280 | Time(s) nan\n",
      "Epoch 00002 | Loss 1.6206 | Test Acc 0.3740 | Time(s) nan\n",
      "Epoch 00003 | Loss 1.4591 | Test Acc 0.4870 | Time(s) 0.0355\n",
      "Epoch 00004 | Loss 1.3291 | Test Acc 0.5230 | Time(s) 0.0362\n",
      "Epoch 00005 | Loss 1.2170 | Test Acc 0.5710 | Time(s) 0.0372\n",
      "Epoch 00006 | Loss 1.1236 | Test Acc 0.6030 | Time(s) 0.0365\n",
      "Epoch 00007 | Loss 1.0442 | Test Acc 0.6220 | Time(s) 0.0368\n",
      "Epoch 00008 | Loss 0.9734 | Test Acc 0.6400 | Time(s) 0.0369\n",
      "Epoch 00009 | Loss 0.9095 | Test Acc 0.6450 | Time(s) 0.0372\n",
      "Epoch 00010 | Loss 0.8516 | Test Acc 0.6580 | Time(s) 0.0374\n",
      "Epoch 00011 | Loss 0.7986 | Test Acc 0.6660 | Time(s) 0.0372\n",
      "Epoch 00012 | Loss 0.7493 | Test Acc 0.6790 | Time(s) 0.0367\n",
      "Epoch 00013 | Loss 0.7036 | Test Acc 0.6910 | Time(s) 0.0364\n",
      "Epoch 00014 | Loss 0.6605 | Test Acc 0.7050 | Time(s) 0.0363\n",
      "Epoch 00015 | Loss 0.6192 | Test Acc 0.7170 | Time(s) 0.0363\n",
      "Epoch 00016 | Loss 0.5800 | Test Acc 0.7320 | Time(s) 0.0365\n",
      "Epoch 00017 | Loss 0.5438 | Test Acc 0.7420 | Time(s) 0.0367\n",
      "Epoch 00018 | Loss 0.5108 | Test Acc 0.7550 | Time(s) 0.0368\n",
      "Epoch 00019 | Loss 0.4805 | Test Acc 0.7580 | Time(s) 0.0369\n",
      "Epoch 00020 | Loss 0.4523 | Test Acc 0.7640 | Time(s) 0.0367\n",
      "Epoch 00021 | Loss 0.4257 | Test Acc 0.7690 | Time(s) 0.0368\n",
      "Epoch 00022 | Loss 0.4007 | Test Acc 0.7720 | Time(s) 0.0369\n",
      "Epoch 00023 | Loss 0.3774 | Test Acc 0.7730 | Time(s) 0.0369\n",
      "Epoch 00024 | Loss 0.3558 | Test Acc 0.7780 | Time(s) 0.0369\n",
      "Epoch 00025 | Loss 0.3361 | Test Acc 0.7760 | Time(s) 0.0370\n",
      "Epoch 00026 | Loss 0.3179 | Test Acc 0.7790 | Time(s) 0.0370\n",
      "Epoch 00027 | Loss 0.3007 | Test Acc 0.7830 | Time(s) 0.0369\n",
      "Epoch 00028 | Loss 0.2845 | Test Acc 0.7850 | Time(s) 0.0370\n",
      "Epoch 00029 | Loss 0.2692 | Test Acc 0.7900 | Time(s) 0.0369\n",
      "Epoch 00030 | Loss 0.2549 | Test Acc 0.7910 | Time(s) 0.0370\n",
      "Epoch 00031 | Loss 0.2415 | Test Acc 0.7920 | Time(s) 0.0370\n",
      "Epoch 00032 | Loss 0.2288 | Test Acc 0.7930 | Time(s) 0.0370\n",
      "Epoch 00033 | Loss 0.2169 | Test Acc 0.7940 | Time(s) 0.0370\n",
      "Epoch 00034 | Loss 0.2059 | Test Acc 0.7950 | Time(s) 0.0370\n",
      "Epoch 00035 | Loss 0.1958 | Test Acc 0.7950 | Time(s) 0.0372\n",
      "Epoch 00036 | Loss 0.1862 | Test Acc 0.7960 | Time(s) 0.0371\n",
      "Epoch 00037 | Loss 0.1771 | Test Acc 0.7960 | Time(s) 0.0373\n",
      "Epoch 00038 | Loss 0.1684 | Test Acc 0.7970 | Time(s) 0.0373\n",
      "Epoch 00039 | Loss 0.1604 | Test Acc 0.7960 | Time(s) 0.0374\n",
      "Epoch 00040 | Loss 0.1529 | Test Acc 0.7940 | Time(s) 0.0373\n",
      "Epoch 00041 | Loss 0.1458 | Test Acc 0.7950 | Time(s) 0.0373\n",
      "Epoch 00042 | Loss 0.1392 | Test Acc 0.7960 | Time(s) 0.0373\n",
      "Epoch 00043 | Loss 0.1330 | Test Acc 0.7930 | Time(s) 0.0374\n",
      "Epoch 00044 | Loss 0.1271 | Test Acc 0.7890 | Time(s) 0.0374\n",
      "Epoch 00045 | Loss 0.1215 | Test Acc 0.7890 | Time(s) 0.0374\n",
      "Epoch 00046 | Loss 0.1163 | Test Acc 0.7900 | Time(s) 0.0375\n",
      "Epoch 00047 | Loss 0.1113 | Test Acc 0.7900 | Time(s) 0.0376\n",
      "Epoch 00048 | Loss 0.1066 | Test Acc 0.7910 | Time(s) 0.0376\n",
      "Epoch 00049 | Loss 0.1022 | Test Acc 0.7920 | Time(s) 0.0376\n"
     ]
    }
   ],
   "source": [
    "import time\n",
    "import numpy as np\n",
    "g, features, labels, train_mask, test_mask = load_cora_data()\n",
    "optimizer = torch.optim.Adam(net.parameters(), lr=1e-2)\n",
    "dur = []\n",
    "for epoch in range(50):\n",
    "    if epoch >=3:\n",
    "        t0 = time.time()\n",
    "\n",
    "    net.train()\n",
    "    logits = net(g, features)\n",
    "    logp = F.log_softmax(logits, 1)\n",
    "    loss = F.nll_loss(logp[train_mask], labels[train_mask])\n",
    "\n",
    "    optimizer.zero_grad()\n",
    "    loss.backward()\n",
    "    optimizer.step()\n",
    "\n",
    "    if epoch >=3:\n",
    "        dur.append(time.time() - t0)\n",
    "\n",
    "    acc = evaluate(net, g, features, labels, test_mask)\n",
    "    print(\"Epoch {:05d} | Loss {:.4f} | Test Acc {:.4f} | Time(s) {:.4f}\".format(\n",
    "            epoch, loss.item(), acc, np.mean(dur)))"
   ]
  },
  {
   "cell_type": "code",
   "execution_count": 57,
   "metadata": {},
   "outputs": [
    {
     "name": "stdout",
     "output_type": "stream",
     "text": [
      "DGLGraph(num_nodes=2708, num_edges=10556,\n",
      "         ndata_schemes={}\n",
      "         edata_schemes={}) tensor([[0., 0., 0.,  ..., 0., 0., 0.],\n",
      "        [0., 0., 0.,  ..., 0., 0., 0.],\n",
      "        [0., 0., 0.,  ..., 0., 0., 0.],\n",
      "        ...,\n",
      "        [0., 0., 0.,  ..., 0., 0., 0.],\n",
      "        [0., 0., 0.,  ..., 0., 0., 0.],\n",
      "        [0., 0., 0.,  ..., 0., 0., 0.]]) tensor([2, 5, 4,  ..., 1, 0, 2]) tensor([ True,  True,  True,  ..., False, False, False], dtype=torch.bool) tensor([False, False, False,  ..., False, False, False], dtype=torch.bool)\n"
     ]
    }
   ],
   "source": [
    "g, features, labels, train_mask, test_mask = load_cora_data()\n",
    "print(g, features, labels, train_mask, test_mask)"
   ]
  },
  {
   "cell_type": "code",
   "execution_count": 51,
   "metadata": {},
   "outputs": [],
   "source": [
    "import torch as th\n",
    "import numpy as np\n",
    "import scipy.sparse as spp\n",
    "\n",
    "# Create a star graph from a pair of arrays (using ``numpy.array`` works too).\n",
    "u = th.tensor([0, 3, 4, 5, 1])\n",
    "v = th.tensor([0, 2, 3, 4, 5])\n",
    "star1 = dgl.DGLGraph((u, v))\n",
    "\n",
    "# Create the same graph in one go! Essentially, if one of the arrays is a scalar,\n",
    "# the value is automatically broadcasted to match the length of the other array\n",
    "# -- a feature called *edge broadcasting*.\n",
    "start2 = dgl.DGLGraph((0, v))\n",
    "\n",
    "# Create the same graph from a scipy sparse matrix (using ``scipy.sparse.csr_matrix`` works too).\n",
    "adj = spp.coo_matrix((np.ones(len(u)), (u.numpy(), v.numpy())))\n",
    "star3 = dgl.DGLGraph(adj)\n",
    "\n",
    "# Create the same graph from a list of integer pairs.\n",
    "elist = [(0, 1), (0, 2), (0, 3), (0, 4), (0, 5)]\n",
    "star4 = dgl.DGLGraph(elist)"
   ]
  },
  {
   "cell_type": "code",
   "execution_count": 52,
   "metadata": {},
   "outputs": [
    {
     "data": {
      "image/png": "[encoded data removed]",
      "text/plain": [
       "<Figure size 432x288 with 1 Axes>"
      ]
     },
     "metadata": {},
     "output_type": "display_data"
    }
   ],
   "source": [
    "g = dgl.DGLGraph()\n",
    "g.add_nodes(10)\n",
    "# A couple edges one-by-one\n",
    "for i in range(1, 4):\n",
    "    g.add_edge(i, 0)\n",
    "# A few more with a paired list\n",
    "src = list(range(5, 8)); dst = [0]*3\n",
    "g.add_edges(src, dst)\n",
    "# finish with a pair of tensors\n",
    "src = th.tensor([8, 9]); dst = th.tensor([0, 0])\n",
    "g.add_edges(src, dst)\n",
    "\n",
    "# Edge broadcasting will do star graph in one go!\n",
    "g.clear(); g.add_nodes(10)\n",
    "src = th.tensor(list(range(1, 10)));\n",
    "g.add_edges(src, 0)\n",
    "\n",
    "# Visualize the graph.\n",
    "# nx.draw(g.to_networkx(), with_labels=True)\n",
    "nx.draw(star1.to_networkx(), with_labels=True)\n",
    "plt.show()"
   ]
  },
  {
   "cell_type": "code",
   "execution_count": null,
   "metadata": {},
   "outputs": [],
   "source": []
  }
 ],
 "metadata": {
  "kernelspec": {
   "display_name": "pytorch",
   "language": "python",
   "name": "pytorch"
  },
  "language_info": {
   "codemirror_mode": {
    "name": "ipython",
    "version": 3
   },
   "file_extension": ".py",
   "mimetype": "text/x-python",
   "name": "python",
   "nbconvert_exporter": "python",
   "pygments_lexer": "ipython3",
   "version": "3.6.5"
  }
 },
 "nbformat": 4,
 "nbformat_minor": 2
}
